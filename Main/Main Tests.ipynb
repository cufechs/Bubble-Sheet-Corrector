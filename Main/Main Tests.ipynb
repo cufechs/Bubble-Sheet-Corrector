{
 "cells": [
  {
   "cell_type": "code",
   "execution_count": null,
   "id": "1af323bf",
   "metadata": {},
   "outputs": [],
   "source": [
    "import numpy as np\n",
    "import skimage.io as io\n",
    "import matplotlib.pyplot as plt\n",
    "\n",
    "from common_funtions import loadImage, show_images, perspective_correction, get_id, removeShadow\n",
    "from mlp_train import detect_digit\n",
    "\n",
    "%matplotlib inline\n",
    "%reload_ext autoreload\n",
    "%autoreload 2"
   ]
  },
  {
   "cell_type": "code",
   "execution_count": null,
   "id": "a0a103f4",
   "metadata": {
    "scrolled": false
   },
   "outputs": [],
   "source": [
    "####### Main ID Test ########################\n",
    "image = io.imread('test data/test_1.jpeg')\n",
    "image1, flag = perspective_correction(image)\n",
    "if flag:\n",
    "    plt.figure(figsize=(15, 15)); plt.imshow(image)\n",
    "    idd = get_id(image1, id_length=7, show_info=False)\n",
    "    print('ID:', idd)"
   ]
  },
  {
   "cell_type": "code",
   "execution_count": null,
   "id": "7c6052d6",
   "metadata": {},
   "outputs": [],
   "source": []
  }
 ],
 "metadata": {
  "kernelspec": {
   "display_name": "Python 3",
   "language": "python",
   "name": "python3"
  },
  "language_info": {
   "codemirror_mode": {
    "name": "ipython",
    "version": 3
   },
   "file_extension": ".py",
   "mimetype": "text/x-python",
   "name": "python",
   "nbconvert_exporter": "python",
   "pygments_lexer": "ipython3",
   "version": "3.7.11"
  }
 },
 "nbformat": 4,
 "nbformat_minor": 5
}
