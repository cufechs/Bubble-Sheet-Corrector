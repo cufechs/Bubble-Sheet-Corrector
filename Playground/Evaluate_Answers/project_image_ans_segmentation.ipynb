{
 "cells": [
  {
   "cell_type": "code",
   "execution_count": 4,
   "id": "b876d810",
   "metadata": {},
   "outputs": [],
   "source": [
    "import cv2\n",
    "import numpy as np\n",
    "from PIL import Image\n",
    "import os\n",
    "import matplotlib.pyplot as plt"
   ]
  },
  {
   "cell_type": "markdown",
   "id": "04ecf976",
   "metadata": {},
   "source": [
    "# Segmentation of Questions boxes"
   ]
  },
  {
   "cell_type": "markdown",
   "id": "03c9a11c",
   "metadata": {},
   "source": [
    "### Getting the contours"
   ]
  },
  {
   "cell_type": "code",
   "execution_count": 2,
   "id": "09765219",
   "metadata": {},
   "outputs": [],
   "source": [
    "# getting the ans box contours \n",
    "\n",
    "##2 inputs  (edged image and orginal image )\n",
    "##2 outputs (number of the questions boxes(chunks) and it contours) \n",
    "\n",
    "def findQuestionsBoxes(edged,imgOrginal):\n",
    "    #to store Contours of large areas\n",
    "    largeAreaContours=[]\n",
    "    #getting all contours\n",
    "    contours, hierarchy = cv2.findContours(edged,cv2.RETR_EXTERNAL, cv2.CHAIN_APPROX_NONE)\n",
    "    cv2.waitKey(0)\n",
    "    \n",
    "    #convert contours to array\n",
    "    contoursArr=np.asarray(contours)\n",
    "    \n",
    "    #getting big area countours \n",
    "    for i in contours:\n",
    "        area=cv2.contourArea(i)\n",
    "         ####from testing the area of Countrs 35,000+\n",
    "        if(area>10000.0):\n",
    "            ##Making sure that it is a rectangle\n",
    "            largeAreaContours.append(i)\n",
    "            \n",
    "    #counts of contours       \n",
    "    countOfAnsBoxes=len(largeAreaContours)\n",
    "    #sorting the biggest Contours first \n",
    "    largeAreaContours =sorted(largeAreaContours,key= cv2.contourArea,reverse=True)\n",
    "    \n",
    "    return countOfAnsBoxes,largeAreaContours\n",
    "    \n",
    "    \n",
    "    "
   ]
  },
  {
   "cell_type": "markdown",
   "id": "4bd27600",
   "metadata": {},
   "source": [
    "#### Test Func of Contours"
   ]
  },
  {
   "cell_type": "code",
   "execution_count": 3,
   "id": "9f5be729",
   "metadata": {},
   "outputs": [
    {
     "ename": "error",
     "evalue": "OpenCV(4.5.4-dev) D:\\a\\opencv-python\\opencv-python\\opencv\\modules\\imgproc\\src\\color.cpp:182: error: (-215:Assertion failed) !_src.empty() in function 'cv::cvtColor'\n",
     "output_type": "error",
     "traceback": [
      "\u001b[1;31m---------------------------------------------------------------------------\u001b[0m",
      "\u001b[1;31merror\u001b[0m                                     Traceback (most recent call last)",
      "\u001b[1;32m~\\AppData\\Local\\Temp/ipykernel_11144/4154312376.py\u001b[0m in \u001b[0;36m<module>\u001b[1;34m\u001b[0m\n\u001b[0;32m      2\u001b[0m \u001b[0mimgOrginal\u001b[0m\u001b[1;33m=\u001b[0m\u001b[0mcv2\u001b[0m\u001b[1;33m.\u001b[0m\u001b[0mimread\u001b[0m\u001b[1;33m(\u001b[0m\u001b[1;34m'box2sheet.jpg'\u001b[0m\u001b[1;33m)\u001b[0m\u001b[1;33m\u001b[0m\u001b[1;33m\u001b[0m\u001b[0m\n\u001b[0;32m      3\u001b[0m \u001b[1;31m# Grayscale\u001b[0m\u001b[1;33m\u001b[0m\u001b[1;33m\u001b[0m\u001b[1;33m\u001b[0m\u001b[0m\n\u001b[1;32m----> 4\u001b[1;33m \u001b[0mgray\u001b[0m \u001b[1;33m=\u001b[0m \u001b[0mcv2\u001b[0m\u001b[1;33m.\u001b[0m\u001b[0mcvtColor\u001b[0m\u001b[1;33m(\u001b[0m\u001b[0mimgOrginal\u001b[0m\u001b[1;33m,\u001b[0m \u001b[0mcv2\u001b[0m\u001b[1;33m.\u001b[0m\u001b[0mCOLOR_BGR2GRAY\u001b[0m\u001b[1;33m)\u001b[0m\u001b[1;33m\u001b[0m\u001b[1;33m\u001b[0m\u001b[0m\n\u001b[0m\u001b[0;32m      5\u001b[0m \u001b[1;31m# Find Canny edges\u001b[0m\u001b[1;33m\u001b[0m\u001b[1;33m\u001b[0m\u001b[1;33m\u001b[0m\u001b[0m\n\u001b[0;32m      6\u001b[0m \u001b[0medged\u001b[0m \u001b[1;33m=\u001b[0m \u001b[0mcv2\u001b[0m\u001b[1;33m.\u001b[0m\u001b[0mCanny\u001b[0m\u001b[1;33m(\u001b[0m\u001b[0mgray\u001b[0m\u001b[1;33m,\u001b[0m \u001b[1;36m30\u001b[0m\u001b[1;33m,\u001b[0m \u001b[1;36m200\u001b[0m\u001b[1;33m)\u001b[0m\u001b[1;33m\u001b[0m\u001b[1;33m\u001b[0m\u001b[0m\n",
      "\u001b[1;31merror\u001b[0m: OpenCV(4.5.4-dev) D:\\a\\opencv-python\\opencv-python\\opencv\\modules\\imgproc\\src\\color.cpp:182: error: (-215:Assertion failed) !_src.empty() in function 'cv::cvtColor'\n"
     ]
    }
   ],
   "source": [
    "#get orginal images\n",
    "imgOrginal=cv2.imread('box2sheet.jpg') \n",
    "# Grayscale\n",
    "gray = cv2.cvtColor(imgOrginal, cv2.COLOR_BGR2GRAY)\n",
    "# Find Canny edges\n",
    "edged = cv2.Canny(gray, 30, 200)\n",
    "cv2.waitKey(0)\n",
    "#call the func \n",
    "NumOfAnsB,Anscontours=findQuestionsBoxes(edged,imgOrginal)"
   ]
  },
  {
   "cell_type": "code",
   "execution_count": null,
   "id": "b852dd21",
   "metadata": {},
   "outputs": [],
   "source": [
    "#test the COUNT of AnsB\n",
    "# print(\"this is the count of AnsBoxes\",NumOfAnsB)\n",
    "#test the returned Contours\n",
    "# cv2.drawContours(imgOrginal, Anscontours, -1, (0, 0, 255), 3)\n",
    "# cv2.imshow('Contours', imgOrginal)\n",
    "# cv2.waitKey(0)\n",
    "# cv2.destroyAllWindows()"
   ]
  },
  {
   "cell_type": "markdown",
   "id": "ebc74a33",
   "metadata": {},
   "source": [
    "## Getting the cropped image of the Ans Boxes"
   ]
  },
  {
   "cell_type": "markdown",
   "id": "efda2451",
   "metadata": {},
   "source": [
    "for each contour in the the Ans contours get the corner points "
   ]
  },
  {
   "cell_type": "code",
   "execution_count": 4,
   "id": "984853a4",
   "metadata": {},
   "outputs": [],
   "source": [
    "#1 input the contours of the Answers boxes (the 2nd return of findQuestionsBoxes )\n",
    "#1 output list of cropped images\n",
    "def getCroppedImg(Anscontours):\n",
    "    croppedImages=[]\n",
    "    for i in Anscontours:\n",
    "            x,y,w,h = cv2.boundingRect(i)\n",
    "            crop_img = imgOrginal[y:y+h, x:x+w]\n",
    "            croppedImages.append(crop_img)\n",
    "    return croppedImages\n"
   ]
  },
  {
   "cell_type": "markdown",
   "id": "20c9ccf1",
   "metadata": {},
   "source": [
    "### Test fn for get cropped images"
   ]
  },
  {
   "cell_type": "code",
   "execution_count": 5,
   "id": "347584c5",
   "metadata": {},
   "outputs": [],
   "source": [
    "imgOrginal=cv2.imread('box2sheet.jpg') \n",
    "# Grayscale\n",
    "gray = cv2.cvtColor(imgOrginal, cv2.COLOR_BGR2GRAY)\n",
    "# Find Canny edges\n",
    "edged = cv2.Canny(gray, 30, 200)\n",
    "cv2.waitKey(0)\n",
    "#call the to get ans contours  \n",
    "NumOfAnsB,Anscontours=findQuestionsBoxes(edged,imgOrginal)\n",
    "#get the x,y,h,w for each contour \n",
    "croppedImages=getCroppedImg(Anscontours)  \n"
   ]
  },
  {
   "cell_type": "code",
   "execution_count": null,
   "id": "159ea02e",
   "metadata": {},
   "outputs": [],
   "source": [
    "#test for get cropped images fn\n",
    "# for i in croppedImages:\n",
    "#     cv2.imshow(\"cropped\", i)\n",
    "#     cv2.waitKey(0)\n",
    "   "
   ]
  }
 ],
 "metadata": {
  "kernelspec": {
   "display_name": "Python 3 (ipykernel)",
   "language": "python",
   "name": "python3"
  },
  "language_info": {
   "codemirror_mode": {
    "name": "ipython",
    "version": 3
   },
   "file_extension": ".py",
   "mimetype": "text/x-python",
   "name": "python",
   "nbconvert_exporter": "python",
   "pygments_lexer": "ipython3",
   "version": "3.8.8"
  }
 },
 "nbformat": 4,
 "nbformat_minor": 5
}
